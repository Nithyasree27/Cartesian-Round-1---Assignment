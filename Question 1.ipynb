{
 "cells": [
  {
   "cell_type": "code",
   "execution_count": 1,
   "id": "b90f3627",
   "metadata": {},
   "outputs": [
    {
     "name": "stdout",
     "output_type": "stream",
     "text": [
      "This declaration represents a political commitment among declaration partners to advance a positive vision for the Internet in this era of a united europe\n",
      "\u001b[1m \n",
      "OUTPUT 1: Printing word in reverse\n",
      " \u001b[0m\n",
      "Europe united a of era this in internet the for vision positive a advance to partners declaration among commitment political a represents declaration this\n",
      "\u001b[1m \n",
      "OUTPUT 2: Top 2 Occurrence of words\n",
      " \u001b[0m\n",
      "a \t: 3 times\n",
      "this \t: 2 times\n"
     ]
    }
   ],
   "source": [
    "s=input().lower()\n",
    "s1=s.split()\n",
    "a=len(s1)\n",
    "s2=[]\n",
    "for i in range(a-1,-1,-1):\n",
    "    s2.append(s1[i])\n",
    "s2[0]=s2[0].capitalize()\n",
    "print('\\033[1m',\"\\nOUTPUT 1: Printing word in reverse\\n\",'\\033[0m')\n",
    "print(' '.join(s2))\n",
    "print('\\033[1m',\"\\nOUTPUT 2: Top 2 Occurrence of words\\n\",'\\033[0m')\n",
    "s3= dict()\n",
    "for i in s1:\n",
    "    if i in s3:\n",
    "        s3[i] += 1\n",
    "    else:\n",
    "        s3[i] = 1\n",
    "s3= sorted(s3.items(), key=lambda kv:\n",
    "                (kv[1], kv[0]))\n",
    "print(s3[len(s3)-1][0],'\\t:',s3[len(s3)-1][1],'times')\n",
    "print(s3[len(s3)-2][0],'\\t:',s3[len(s3)-2][1],'times')\n"
   ]
  },
  {
   "cell_type": "code",
   "execution_count": null,
   "id": "e2a8c7de",
   "metadata": {},
   "outputs": [],
   "source": []
  }
 ],
 "metadata": {
  "kernelspec": {
   "display_name": "Python 3 (ipykernel)",
   "language": "python",
   "name": "python3"
  },
  "language_info": {
   "codemirror_mode": {
    "name": "ipython",
    "version": 3
   },
   "file_extension": ".py",
   "mimetype": "text/x-python",
   "name": "python",
   "nbconvert_exporter": "python",
   "pygments_lexer": "ipython3",
   "version": "3.9.12"
  }
 },
 "nbformat": 4,
 "nbformat_minor": 5
}
